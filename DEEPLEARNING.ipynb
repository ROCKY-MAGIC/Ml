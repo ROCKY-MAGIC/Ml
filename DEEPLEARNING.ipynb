{
  "cells": [
    {
      "cell_type": "markdown",
      "metadata": {
        "id": "view-in-github",
        "colab_type": "text"
      },
      "source": [
        "<a href=\"https://colab.research.google.com/github/ROCKY-MAGIC/Ml/blob/main/DEEPLEARNING.ipynb\" target=\"_parent\"><img src=\"https://colab.research.google.com/assets/colab-badge.svg\" alt=\"Open In Colab\"/></a>"
      ]
    },
    {
      "cell_type": "code",
      "execution_count": 1,
      "metadata": {
        "id": "LRBl0uE4Z8hy"
      },
      "outputs": [],
      "source": [
        "import torch"
      ]
    },
    {
      "cell_type": "code",
      "execution_count": 2,
      "metadata": {
        "colab": {
          "base_uri": "https://localhost:8080/"
        },
        "id": "OouJ7oHDbYbn",
        "outputId": "cd4f167b-a7d1-474a-c5ca-27bf883c9366"
      },
      "outputs": [
        {
          "output_type": "execute_result",
          "data": {
            "text/plain": [
              "tensor(4.)"
            ]
          },
          "metadata": {},
          "execution_count": 2
        }
      ],
      "source": [
        "t1 = torch.tensor(4.)\n",
        "t1"
      ]
    },
    {
      "cell_type": "code",
      "execution_count": 3,
      "metadata": {
        "colab": {
          "base_uri": "https://localhost:8080/"
        },
        "id": "fqGDOvdLbtTe",
        "outputId": "1572ad3b-f397-44f8-bc98-66ee1f6b60ef"
      },
      "outputs": [
        {
          "output_type": "execute_result",
          "data": {
            "text/plain": [
              "torch.float32"
            ]
          },
          "metadata": {},
          "execution_count": 3
        }
      ],
      "source": [
        "t1.dtype"
      ]
    },
    {
      "cell_type": "markdown",
      "metadata": {
        "id": "AF7RU_sjEKK4"
      },
      "source": [
        "1"
      ]
    },
    {
      "cell_type": "code",
      "execution_count": 4,
      "metadata": {
        "colab": {
          "base_uri": "https://localhost:8080/"
        },
        "id": "GiZtA46FcB2G",
        "outputId": "6ee9c2fc-f7a0-4025-ab70-9ef0cf671954"
      },
      "outputs": [
        {
          "output_type": "execute_result",
          "data": {
            "text/plain": [
              "torch.Size([2, 4])"
            ]
          },
          "metadata": {},
          "execution_count": 4
        }
      ],
      "source": [
        "t2 = torch.tensor([[4.,4,5,3],[6,4,3,2]])\n",
        "t2\n",
        "t2.shape"
      ]
    },
    {
      "cell_type": "code",
      "execution_count": 5,
      "metadata": {
        "colab": {
          "base_uri": "https://localhost:8080/"
        },
        "id": "WeRduheyc-AR",
        "outputId": "2672fc09-aa10-4a24-83ef-e04eef2e1a9c"
      },
      "outputs": [
        {
          "output_type": "execute_result",
          "data": {
            "text/plain": [
              "(tensor(3.), tensor(4., requires_grad=True), tensor(5., requires_grad=True))"
            ]
          },
          "metadata": {},
          "execution_count": 5
        }
      ],
      "source": [
        "x = torch.tensor(3.)\n",
        "w = torch.tensor(4.,requires_grad=True)\n",
        "b= torch.tensor(5.,requires_grad=True)\n",
        "x,w,b"
      ]
    },
    {
      "cell_type": "code",
      "execution_count": 6,
      "metadata": {
        "colab": {
          "base_uri": "https://localhost:8080/"
        },
        "id": "VWTFHdab7kqv",
        "outputId": "06faff1e-2c32-4a22-fb56-2e3bdd19ecf6"
      },
      "outputs": [
        {
          "output_type": "execute_result",
          "data": {
            "text/plain": [
              "tensor(17., grad_fn=<AddBackward0>)"
            ]
          },
          "metadata": {},
          "execution_count": 6
        }
      ],
      "source": [
        "y = x * w + b\n",
        "y"
      ]
    },
    {
      "cell_type": "code",
      "execution_count": 7,
      "metadata": {
        "colab": {
          "base_uri": "https://localhost:8080/"
        },
        "id": "dLdbR7839A7b",
        "outputId": "1fe4affa-f18d-4350-e7b5-4dfa8cdf8147"
      },
      "outputs": [
        {
          "output_type": "execute_result",
          "data": {
            "text/plain": [
              "torch.float32"
            ]
          },
          "metadata": {},
          "execution_count": 7
        }
      ],
      "source": [
        "y.dtype"
      ]
    },
    {
      "cell_type": "code",
      "execution_count": 8,
      "metadata": {
        "id": "1pbEoSkE9Z16"
      },
      "outputs": [],
      "source": [
        "y.backward()"
      ]
    },
    {
      "cell_type": "code",
      "execution_count": 9,
      "metadata": {
        "colab": {
          "base_uri": "https://localhost:8080/"
        },
        "id": "WUHRPZZN9a_j",
        "outputId": "e7eaba75-b52e-4dc1-d904-a70ea11c665f"
      },
      "outputs": [
        {
          "output_type": "stream",
          "name": "stdout",
          "text": [
            "None tensor(3.) tensor(1.)\n"
          ]
        }
      ],
      "source": [
        "print(x.grad,w.grad,b.grad)"
      ]
    },
    {
      "cell_type": "code",
      "execution_count": 10,
      "metadata": {
        "colab": {
          "base_uri": "https://localhost:8080/"
        },
        "id": "ecM7PjUi97-9",
        "outputId": "82953af5-eeb6-4053-8849-696e0f4b6e4e"
      },
      "outputs": [
        {
          "output_type": "execute_result",
          "data": {
            "text/plain": [
              "tensor([[4., 4., 5., 3.],\n",
              "        [6., 4., 3., 2.]])"
            ]
          },
          "metadata": {},
          "execution_count": 10
        }
      ],
      "source": [
        "t2"
      ]
    },
    {
      "cell_type": "code",
      "execution_count": 11,
      "metadata": {
        "colab": {
          "base_uri": "https://localhost:8080/"
        },
        "id": "RVKFLkbe_fTT",
        "outputId": "27e03a2a-48c3-4b42-99d9-429e0f6a4e5d"
      },
      "outputs": [
        {
          "output_type": "execute_result",
          "data": {
            "text/plain": [
              "tensor([[3., 3., 3., 3.],\n",
              "        [3., 3., 3., 3.]])"
            ]
          },
          "metadata": {},
          "execution_count": 11
        }
      ],
      "source": [
        "t3 = torch.full((2,4), 3.)\n",
        "t3"
      ]
    },
    {
      "cell_type": "code",
      "execution_count": 12,
      "metadata": {
        "id": "7U4OGUh2BAXN"
      },
      "outputs": [],
      "source": [
        "t4 = torch.cat((t2,t3))"
      ]
    },
    {
      "cell_type": "code",
      "execution_count": 13,
      "metadata": {
        "colab": {
          "base_uri": "https://localhost:8080/"
        },
        "id": "5IoY3EeVBgYq",
        "outputId": "6943ea38-b688-421a-e5f0-a22deb7c5268"
      },
      "outputs": [
        {
          "output_type": "execute_result",
          "data": {
            "text/plain": [
              "tensor([[-0.7568, -0.7568, -0.9589,  0.1411],\n",
              "        [-0.2794, -0.7568,  0.1411,  0.9093],\n",
              "        [ 0.1411,  0.1411,  0.1411,  0.1411],\n",
              "        [ 0.1411,  0.1411,  0.1411,  0.1411]])"
            ]
          },
          "metadata": {},
          "execution_count": 13
        }
      ],
      "source": [
        "torch.sin(t4)"
      ]
    },
    {
      "cell_type": "code",
      "execution_count": 14,
      "metadata": {
        "colab": {
          "base_uri": "https://localhost:8080/"
        },
        "id": "E83rm2YxCEKe",
        "outputId": "c591004e-a61b-4927-b017-45480231d0db"
      },
      "outputs": [
        {
          "output_type": "stream",
          "name": "stdout",
          "text": [
            "tensor([[4., 4., 5., 3.],\n",
            "        [6., 4., 3., 2.],\n",
            "        [3., 3., 3., 3.],\n",
            "        [3., 3., 3., 3.]])\n"
          ]
        },
        {
          "output_type": "execute_result",
          "data": {
            "text/plain": [
              "tensor([[4., 4.],\n",
              "        [5., 3.],\n",
              "        [6., 4.],\n",
              "        [3., 2.],\n",
              "        [3., 3.],\n",
              "        [3., 3.],\n",
              "        [3., 3.],\n",
              "        [3., 3.]])"
            ]
          },
          "metadata": {},
          "execution_count": 14
        }
      ],
      "source": [
        "print(t4)\n",
        "t4.reshape(8,2)"
      ]
    },
    {
      "cell_type": "code",
      "execution_count": 15,
      "metadata": {
        "colab": {
          "base_uri": "https://localhost:8080/"
        },
        "id": "5CpyHjUHDAiJ",
        "outputId": "f61ef1e2-c984-4501-bdab-c60c872a9532"
      },
      "outputs": [
        {
          "output_type": "execute_result",
          "data": {
            "text/plain": [
              "array([[4., 5.],\n",
              "       [4., 3.]])"
            ]
          },
          "metadata": {},
          "execution_count": 15
        }
      ],
      "source": [
        "import numpy as np\n",
        "\n",
        "x = np.array([[4.,5.],\n",
        "             [4.,3.]])\n",
        "x"
      ]
    },
    {
      "cell_type": "code",
      "execution_count": 16,
      "metadata": {
        "colab": {
          "base_uri": "https://localhost:8080/"
        },
        "id": "dzglZnMmEPLQ",
        "outputId": "6657e2b3-61c8-4ede-83c7-cafe9433c989"
      },
      "outputs": [
        {
          "output_type": "execute_result",
          "data": {
            "text/plain": [
              "tensor([[4., 5.],\n",
              "        [4., 3.]], dtype=torch.float64)"
            ]
          },
          "metadata": {},
          "execution_count": 16
        }
      ],
      "source": [
        "y = torch.from_numpy(x)\n",
        "y"
      ]
    },
    {
      "cell_type": "code",
      "execution_count": 17,
      "metadata": {
        "colab": {
          "base_uri": "https://localhost:8080/"
        },
        "id": "wcaL6ZjoHBF2",
        "outputId": "acc048ab-f6ce-4b89-b582-3f5e46a018bc"
      },
      "outputs": [
        {
          "output_type": "execute_result",
          "data": {
            "text/plain": [
              "(dtype('float64'), torch.float64)"
            ]
          },
          "metadata": {},
          "execution_count": 17
        }
      ],
      "source": [
        "x.dtype,y.dtype"
      ]
    },
    {
      "cell_type": "code",
      "execution_count": 18,
      "metadata": {
        "colab": {
          "base_uri": "https://localhost:8080/"
        },
        "id": "nBK5DVLjHJXz",
        "outputId": "55a44d7c-8a45-4bde-f7fa-b41725853170"
      },
      "outputs": [
        {
          "output_type": "execute_result",
          "data": {
            "text/plain": [
              "array([[4., 5.],\n",
              "       [4., 3.]])"
            ]
          },
          "metadata": {},
          "execution_count": 18
        }
      ],
      "source": [
        "z = y.numpy()\n",
        "z\n"
      ]
    },
    {
      "cell_type": "code",
      "execution_count": 19,
      "metadata": {
        "colab": {
          "base_uri": "https://localhost:8080/"
        },
        "id": "Hme3N8nAHbqi",
        "outputId": "fdf74ef9-96c2-46ad-e537-7dcbf9fda51e"
      },
      "outputs": [
        {
          "output_type": "execute_result",
          "data": {
            "text/plain": [
              "array([[ 73.,  67.,  43.],\n",
              "       [ 91.,  88.,  64.],\n",
              "       [ 87., 134.,  58.],\n",
              "       [103.,  43.,  37.],\n",
              "       [ 69.,  96.,  70.]], dtype=float32)"
            ]
          },
          "metadata": {},
          "execution_count": 19
        }
      ],
      "source": [
        "inputs = np.array([[73,67,43],\n",
        "                    [91,88,64],\n",
        "                    [87,134,58],\n",
        "                    [103,43,37],\n",
        "                    [69,96,70]],dtype = \"float32\")\n",
        "inputs"
      ]
    },
    {
      "cell_type": "code",
      "execution_count": 20,
      "metadata": {
        "colab": {
          "base_uri": "https://localhost:8080/"
        },
        "id": "k3ADs6sBZ7UU",
        "outputId": "cc2d7d35-beac-4117-cf91-6236de77b465"
      },
      "outputs": [
        {
          "output_type": "execute_result",
          "data": {
            "text/plain": [
              "array([[ 56.,  70.],\n",
              "       [ 81., 101.],\n",
              "       [119., 133.],\n",
              "       [ 22.,  37.],\n",
              "       [103., 119.]], dtype=float32)"
            ]
          },
          "metadata": {},
          "execution_count": 20
        }
      ],
      "source": [
        "targets = np.array([[56,70],\n",
        "                    [81,101],\n",
        "                    [119,133],\n",
        "                    [22,37],\n",
        "                    [103,119]], dtype = \"float32\")\n",
        "targets"
      ]
    },
    {
      "cell_type": "code",
      "execution_count": 21,
      "metadata": {
        "colab": {
          "base_uri": "https://localhost:8080/"
        },
        "id": "KVgPYDzxlw9F",
        "outputId": "3c4fc988-c8c2-423d-820a-d62e15cfef21"
      },
      "outputs": [
        {
          "output_type": "stream",
          "name": "stdout",
          "text": [
            "tensor([[ 73.,  67.,  43.],\n",
            "        [ 91.,  88.,  64.],\n",
            "        [ 87., 134.,  58.],\n",
            "        [103.,  43.,  37.],\n",
            "        [ 69.,  96.,  70.]])\n",
            "tensor([[ 56.,  70.],\n",
            "        [ 81., 101.],\n",
            "        [119., 133.],\n",
            "        [ 22.,  37.],\n",
            "        [103., 119.]])\n"
          ]
        }
      ],
      "source": [
        "inputs = torch.from_numpy(inputs)\n",
        "targets = torch.from_numpy(targets)\n",
        "print(inputs)\n",
        "print(targets)"
      ]
    },
    {
      "cell_type": "code",
      "execution_count": 22,
      "metadata": {
        "colab": {
          "base_uri": "https://localhost:8080/"
        },
        "id": "TFzDcTkzmf6y",
        "outputId": "754a1d78-99fb-479a-e311-4f97ce0ac2a9"
      },
      "outputs": [
        {
          "output_type": "execute_result",
          "data": {
            "text/plain": [
              "(tensor([[ 1.0072, -1.0286, -0.1024],\n",
              "         [ 0.3546, -0.0826, -0.4756]], requires_grad=True),\n",
              " tensor([-0.1897, -1.4913], requires_grad=True))"
            ]
          },
          "metadata": {},
          "execution_count": 22
        }
      ],
      "source": [
        "w = torch.randn(2,3, requires_grad = True)\n",
        "b = torch.randn(2, requires_grad = True)\n",
        "w,b"
      ]
    },
    {
      "cell_type": "code",
      "execution_count": 23,
      "metadata": {
        "id": "nrRkX38ZsX9n"
      },
      "outputs": [],
      "source": [
        "def model(x):\n",
        "  return x @ w.t() + b"
      ]
    },
    {
      "cell_type": "code",
      "execution_count": 24,
      "metadata": {
        "id": "GVT25nWDwtXK"
      },
      "outputs": [],
      "source": [
        "def mse(t1,t2):\n",
        "  diff = t1 - t2\n",
        "  return torch.sum(diff * diff) / diff.numel()"
      ]
    },
    {
      "cell_type": "code",
      "execution_count": 25,
      "metadata": {
        "colab": {
          "base_uri": "https://localhost:8080/"
        },
        "id": "wwLH4wl-OJV_",
        "outputId": "f6cc08e3-ac0a-47fe-b4f6-f8466af1ca64"
      },
      "outputs": [
        {
          "output_type": "execute_result",
          "data": {
            "text/plain": [
              "(tensor([[ 1.3553e-02, -1.5895e+00],\n",
              "         [-5.6091e+00, -6.9285e+00],\n",
              "         [-5.6340e+01, -9.2913e+00],\n",
              "         [ 5.5531e+01,  1.3883e+01],\n",
              "         [-3.6611e+01, -1.8243e+01]], grad_fn=<AddBackward0>),\n",
              " tensor([[ 56.,  70.],\n",
              "         [ 81., 101.],\n",
              "         [119., 133.],\n",
              "         [ 22.,  37.],\n",
              "         [103., 119.]]))"
            ]
          },
          "metadata": {},
          "execution_count": 25
        }
      ],
      "source": [
        "pred = model(inputs)\n",
        "pred,targets"
      ]
    },
    {
      "cell_type": "code",
      "execution_count": 26,
      "metadata": {
        "id": "BZPTIjGTT7vp"
      },
      "outputs": [],
      "source": [
        "def train(epochs):\n",
        "  for epoch in range(epochs):\n",
        "    preds = model(inputs)\n",
        "    loss = mse(preds,targets)\n",
        "    loss.backward()\n",
        "    global w,b\n",
        "    with torch.no_grad() :\n",
        "      w -= w.grad * 1e-5\n",
        "      b -= b.grad * 1e-5\n",
        "      w.grad.zero_()\n",
        "      b.grad.zero_()"
      ]
    },
    {
      "cell_type": "code",
      "execution_count": 27,
      "metadata": {
        "colab": {
          "base_uri": "https://localhost:8080/"
        },
        "id": "GIPZp4epZc6M",
        "outputId": "51a9a7c4-c9a1-4bcf-de5a-680a2bc028b6"
      },
      "outputs": [
        {
          "output_type": "execute_result",
          "data": {
            "text/plain": [
              "(tensor([[ 56.,  70.],\n",
              "         [ 81., 101.],\n",
              "         [119., 133.],\n",
              "         [ 22.,  37.],\n",
              "         [103., 119.]]),\n",
              " tensor([[ 57.4162,  70.5290],\n",
              "         [ 81.3138,  97.5530],\n",
              "         [120.6003, 139.8215],\n",
              "         [ 22.0484,  39.1289],\n",
              "         [ 99.5368, 112.0736]], grad_fn=<AddBackward0>),\n",
              " tensor(12.7864, grad_fn=<DivBackward0>))"
            ]
          },
          "metadata": {},
          "execution_count": 27
        }
      ],
      "source": [
        "train(856)\n",
        "preds = model(inputs)\n",
        "targets,preds,mse(preds,targets)"
      ]
    },
    {
      "cell_type": "code",
      "execution_count": 28,
      "metadata": {
        "id": "FY13f7Vhj95W"
      },
      "outputs": [],
      "source": [
        "import torch.nn as nn"
      ]
    },
    {
      "cell_type": "code",
      "execution_count": 29,
      "metadata": {
        "id": "E3nghXJOkIf_",
        "colab": {
          "base_uri": "https://localhost:8080/"
        },
        "outputId": "70e92493-d685-4472-86a9-289bfbddff90"
      },
      "outputs": [
        {
          "output_type": "execute_result",
          "data": {
            "text/plain": [
              "tensor([[ 56.,  70.],\n",
              "        [ 81., 101.],\n",
              "        [119., 133.],\n",
              "        [ 22.,  37.],\n",
              "        [103., 119.],\n",
              "        [ 57.,  69.],\n",
              "        [ 80., 102.],\n",
              "        [118., 132.],\n",
              "        [ 21.,  38.],\n",
              "        [104., 118.],\n",
              "        [ 57.,  69.],\n",
              "        [ 82., 100.],\n",
              "        [118., 134.],\n",
              "        [ 20.,  38.],\n",
              "        [102., 120.]])"
            ]
          },
          "metadata": {},
          "execution_count": 29
        }
      ],
      "source": [
        "\n",
        "targets = torch.tensor([[56., 70],\n",
        "[81, 101],\n",
        "\n",
        "[119, 133],\n",
        "\n",
        "[22, 37],\n",
        "\n",
        "[103, 119],\n",
        "\n",
        "[57, 69],\n",
        "\n",
        "[80, 102],\n",
        "\n",
        "[118, 132], [21, 38],\n",
        "\n",
        "[104, 118],\n",
        "\n",
        "[57, 69],\n",
        "\n",
        "[82, 100],\n",
        "\n",
        "[118, 134],\n",
        "\n",
        "[20, 38],\n",
        "\n",
        "[102, 120]])\n",
        "targets"
      ]
    },
    {
      "cell_type": "code",
      "source": [
        "inputs = torch.tensor([[73., 67, 43],\n",
        "\n",
        "[91, 88, 64],\n",
        "\n",
        "[87, 134, 58],\n",
        "\n",
        "[102, 43, 37],\n",
        "\n",
        "[69, 96, 70],\n",
        "\n",
        "[74, 66, 43],\n",
        "\n",
        "[91, 87, 65],\n",
        "\n",
        "[88, 134, 59],\n",
        "\n",
        "[101, 44, 37],\n",
        "\n",
        "[68, 96, 71],\n",
        "\n",
        "[73, 66, 44],\n",
        "\n",
        "[92, 87, 64],\n",
        "\n",
        "[87, 135, 57],\n",
        "\n",
        "[103, 43, 36],\n",
        "\n",
        "[68, 97, 70]])\n",
        "inputs"
      ],
      "metadata": {
        "id": "ZDfrO9WhnXxE",
        "colab": {
          "base_uri": "https://localhost:8080/"
        },
        "outputId": "e6ebf7ed-e572-47b8-d717-ee54244ff736"
      },
      "execution_count": 30,
      "outputs": [
        {
          "output_type": "execute_result",
          "data": {
            "text/plain": [
              "tensor([[ 73.,  67.,  43.],\n",
              "        [ 91.,  88.,  64.],\n",
              "        [ 87., 134.,  58.],\n",
              "        [102.,  43.,  37.],\n",
              "        [ 69.,  96.,  70.],\n",
              "        [ 74.,  66.,  43.],\n",
              "        [ 91.,  87.,  65.],\n",
              "        [ 88., 134.,  59.],\n",
              "        [101.,  44.,  37.],\n",
              "        [ 68.,  96.,  71.],\n",
              "        [ 73.,  66.,  44.],\n",
              "        [ 92.,  87.,  64.],\n",
              "        [ 87., 135.,  57.],\n",
              "        [103.,  43.,  36.],\n",
              "        [ 68.,  97.,  70.]])"
            ]
          },
          "metadata": {},
          "execution_count": 30
        }
      ]
    },
    {
      "cell_type": "code",
      "source": [
        "from torch.utils.data import TensorDataset"
      ],
      "metadata": {
        "id": "erh_j6vmoH5q"
      },
      "execution_count": 31,
      "outputs": []
    },
    {
      "cell_type": "code",
      "source": [
        "train_ds = TensorDataset(inputs,targets)\n",
        "train_ds[0:3]"
      ],
      "metadata": {
        "colab": {
          "base_uri": "https://localhost:8080/"
        },
        "id": "v4dpqdn5sps6",
        "outputId": "c63f9254-2ef8-49f6-c967-40dcc2a313ff"
      },
      "execution_count": 32,
      "outputs": [
        {
          "output_type": "execute_result",
          "data": {
            "text/plain": [
              "(tensor([[ 73.,  67.,  43.],\n",
              "         [ 91.,  88.,  64.],\n",
              "         [ 87., 134.,  58.]]),\n",
              " tensor([[ 56.,  70.],\n",
              "         [ 81., 101.],\n",
              "         [119., 133.]]))"
            ]
          },
          "metadata": {},
          "execution_count": 32
        }
      ]
    },
    {
      "cell_type": "code",
      "source": [
        "from torch.utils.data import DataLoader"
      ],
      "metadata": {
        "id": "_-tfGLBhtFcD"
      },
      "execution_count": 33,
      "outputs": []
    },
    {
      "cell_type": "code",
      "source": [
        "batch = 5\n",
        "train_dl = DataLoader(train_ds,batch,shuffle=True)"
      ],
      "metadata": {
        "id": "8YXrnwXytRTt"
      },
      "execution_count": 34,
      "outputs": []
    },
    {
      "cell_type": "code",
      "source": [
        "for input,target in train_dl:\n",
        "  print(input,target)"
      ],
      "metadata": {
        "colab": {
          "base_uri": "https://localhost:8080/"
        },
        "id": "GV4wZfb4txB8",
        "outputId": "50896ecb-212d-4003-d98f-3c54e4ebd500"
      },
      "execution_count": 35,
      "outputs": [
        {
          "output_type": "stream",
          "name": "stdout",
          "text": [
            "tensor([[102.,  43.,  37.],\n",
            "        [ 88., 134.,  59.],\n",
            "        [ 91.,  87.,  65.],\n",
            "        [ 68.,  96.,  71.],\n",
            "        [ 68.,  97.,  70.]]) tensor([[ 22.,  37.],\n",
            "        [118., 132.],\n",
            "        [ 80., 102.],\n",
            "        [104., 118.],\n",
            "        [102., 120.]])\n",
            "tensor([[ 73.,  66.,  44.],\n",
            "        [ 73.,  67.,  43.],\n",
            "        [ 91.,  88.,  64.],\n",
            "        [ 92.,  87.,  64.],\n",
            "        [ 87., 134.,  58.]]) tensor([[ 57.,  69.],\n",
            "        [ 56.,  70.],\n",
            "        [ 81., 101.],\n",
            "        [ 82., 100.],\n",
            "        [119., 133.]])\n",
            "tensor([[101.,  44.,  37.],\n",
            "        [ 74.,  66.,  43.],\n",
            "        [ 87., 135.,  57.],\n",
            "        [ 69.,  96.,  70.],\n",
            "        [103.,  43.,  36.]]) tensor([[ 21.,  38.],\n",
            "        [ 57.,  69.],\n",
            "        [118., 134.],\n",
            "        [103., 119.],\n",
            "        [ 20.,  38.]])\n"
          ]
        }
      ]
    },
    {
      "cell_type": "code",
      "source": [
        "model = nn.Linear(3,2)\n",
        "list(model.parameters())"
      ],
      "metadata": {
        "colab": {
          "base_uri": "https://localhost:8080/"
        },
        "id": "2DKVufo1uhQO",
        "outputId": "8c3573e5-a1fa-4b5c-ce69-acf86adb1366"
      },
      "execution_count": 36,
      "outputs": [
        {
          "output_type": "execute_result",
          "data": {
            "text/plain": [
              "[Parameter containing:\n",
              " tensor([[-0.1067, -0.4106,  0.2707],\n",
              "         [-0.3736, -0.2558,  0.4831]], requires_grad=True),\n",
              " Parameter containing:\n",
              " tensor([0.2615, 0.0879], requires_grad=True)]"
            ]
          },
          "metadata": {},
          "execution_count": 36
        }
      ]
    },
    {
      "cell_type": "code",
      "source": [
        "preds = model(inputs)\n",
        "preds,targets"
      ],
      "metadata": {
        "colab": {
          "base_uri": "https://localhost:8080/"
        },
        "id": "A54mzPAsvipi",
        "outputId": "c2420868-a52e-4316-88c6-bb29116b6bfa"
      },
      "execution_count": 37,
      "outputs": [
        {
          "output_type": "execute_result",
          "data": {
            "text/plain": [
              "(tensor([[-23.3967, -23.5449],\n",
              "         [-28.2544, -25.4946],\n",
              "         [-48.3383, -38.6643],\n",
              "         [-18.2628, -31.1393],\n",
              "         [-27.5663, -16.4230],\n",
              "         [-23.0929, -23.6628],\n",
              "         [-27.5731, -24.7557],\n",
              "         [-48.1743, -38.5547],\n",
              "         [-18.5667, -31.0215],\n",
              "         [-27.1888, -15.5663],\n",
              "         [-22.7154, -22.8060],\n",
              "         [-27.9505, -25.6124],\n",
              "         [-49.0196, -39.4032],\n",
              "         [-18.6403, -31.9961],\n",
              "         [-27.8701, -16.3052]], grad_fn=<AddmmBackward0>),\n",
              " tensor([[ 56.,  70.],\n",
              "         [ 81., 101.],\n",
              "         [119., 133.],\n",
              "         [ 22.,  37.],\n",
              "         [103., 119.],\n",
              "         [ 57.,  69.],\n",
              "         [ 80., 102.],\n",
              "         [118., 132.],\n",
              "         [ 21.,  38.],\n",
              "         [104., 118.],\n",
              "         [ 57.,  69.],\n",
              "         [ 82., 100.],\n",
              "         [118., 134.],\n",
              "         [ 20.,  38.],\n",
              "         [102., 120.]]))"
            ]
          },
          "metadata": {},
          "execution_count": 37
        }
      ]
    },
    {
      "cell_type": "code",
      "source": [
        "import torch.nn.functional as f"
      ],
      "metadata": {
        "id": "zqTIk8-ywGyE"
      },
      "execution_count": 38,
      "outputs": []
    },
    {
      "cell_type": "code",
      "source": [
        "loss_fn = f.mse_loss"
      ],
      "metadata": {
        "id": "SCqcKLaEwRZi"
      },
      "execution_count": 39,
      "outputs": []
    },
    {
      "cell_type": "code",
      "source": [
        "loss = loss_fn(preds,targets)"
      ],
      "metadata": {
        "id": "8sS_eGi5wpJB"
      },
      "execution_count": 40,
      "outputs": []
    },
    {
      "cell_type": "code",
      "source": [
        "loss\n"
      ],
      "metadata": {
        "colab": {
          "base_uri": "https://localhost:8080/"
        },
        "id": "d_ue04y7wzGy",
        "outputId": "26bb78ca-5d9c-4c70-aa4f-7630ab12ee2a"
      },
      "execution_count": 41,
      "outputs": [
        {
          "output_type": "execute_result",
          "data": {
            "text/plain": [
              "tensor(14176.3066, grad_fn=<MseLossBackward0>)"
            ]
          },
          "metadata": {},
          "execution_count": 41
        }
      ]
    },
    {
      "cell_type": "code",
      "source": [
        "opt = torch.optim.SGD(model.parameters(),lr=1e-5)"
      ],
      "metadata": {
        "id": "JcbPJy6Rxd0v"
      },
      "execution_count": 42,
      "outputs": []
    },
    {
      "cell_type": "code",
      "source": [
        "def fit(nu_epoch, model, loss_fn, opt, train_dl):\n",
        "  for epoch in range(nu_epoch):\n",
        "    for input,target in train_dl:\n",
        "      pred = model(input)\n",
        "      loss = loss_fn(pred,target)\n",
        "      loss.backward()\n",
        "      opt.step()\n",
        "      opt.zero_grad()\n",
        "    if (epoch+1) % 10 == 0:\n",
        "        print(f\"Epoch [{epoch+1}/{nu_epoch}] : Loss = {loss.item()}]\")"
      ],
      "metadata": {
        "id": "Vc4qvnMuxpF-"
      },
      "execution_count": 43,
      "outputs": []
    },
    {
      "cell_type": "code",
      "source": [
        "#fit(1000,model,loss_fn,opt,train_dl)"
      ],
      "metadata": {
        "id": "mIzfpbsz0YRo"
      },
      "execution_count": 44,
      "outputs": []
    },
    {
      "cell_type": "code",
      "source": [
        "preds = model(inputs)\n",
        "preds , targets"
      ],
      "metadata": {
        "id": "7vSRv9ZZ1OjQ",
        "colab": {
          "base_uri": "https://localhost:8080/"
        },
        "outputId": "c5197d77-7167-4a39-8bf1-f19dd27945ee"
      },
      "execution_count": 45,
      "outputs": [
        {
          "output_type": "execute_result",
          "data": {
            "text/plain": [
              "(tensor([[-23.3967, -23.5449],\n",
              "         [-28.2544, -25.4946],\n",
              "         [-48.3383, -38.6643],\n",
              "         [-18.2628, -31.1393],\n",
              "         [-27.5663, -16.4230],\n",
              "         [-23.0929, -23.6628],\n",
              "         [-27.5731, -24.7557],\n",
              "         [-48.1743, -38.5547],\n",
              "         [-18.5667, -31.0215],\n",
              "         [-27.1888, -15.5663],\n",
              "         [-22.7154, -22.8060],\n",
              "         [-27.9505, -25.6124],\n",
              "         [-49.0196, -39.4032],\n",
              "         [-18.6403, -31.9961],\n",
              "         [-27.8701, -16.3052]], grad_fn=<AddmmBackward0>),\n",
              " tensor([[ 56.,  70.],\n",
              "         [ 81., 101.],\n",
              "         [119., 133.],\n",
              "         [ 22.,  37.],\n",
              "         [103., 119.],\n",
              "         [ 57.,  69.],\n",
              "         [ 80., 102.],\n",
              "         [118., 132.],\n",
              "         [ 21.,  38.],\n",
              "         [104., 118.],\n",
              "         [ 57.,  69.],\n",
              "         [ 82., 100.],\n",
              "         [118., 134.],\n",
              "         [ 20.,  38.],\n",
              "         [102., 120.]]))"
            ]
          },
          "metadata": {},
          "execution_count": 45
        }
      ]
    },
    {
      "cell_type": "code",
      "source": [
        "model(torch.tensor([75.,63,44]))"
      ],
      "metadata": {
        "colab": {
          "base_uri": "https://localhost:8080/"
        },
        "id": "0f-6QXBJ3CAS",
        "outputId": "7b0376ff-ebdb-4dd8-91e0-78e35aeaf62e"
      },
      "execution_count": 46,
      "outputs": [
        {
          "output_type": "execute_result",
          "data": {
            "text/plain": [
              "tensor([-21.6972, -22.7859], grad_fn=<AddBackward0>)"
            ]
          },
          "metadata": {},
          "execution_count": 46
        }
      ]
    },
    {
      "cell_type": "code",
      "source": [
        "model2 = nn.Sequential(\n",
        "    nn.Linear(3,4),\n",
        "    nn.Sigmoid(),\n",
        "    nn.Linear(4,2)\n",
        ")"
      ],
      "metadata": {
        "id": "34_KUhNwKKsr"
      },
      "execution_count": 47,
      "outputs": []
    },
    {
      "cell_type": "code",
      "source": [
        "opt = torch.optim.SGD(model2.parameters(),lr = 1e-3)"
      ],
      "metadata": {
        "id": "ti29fsKkL6jk"
      },
      "execution_count": 51,
      "outputs": []
    },
    {
      "cell_type": "code",
      "source": [
        "fit(1000,model2,loss_fn,opt,train_dl)"
      ],
      "metadata": {
        "colab": {
          "base_uri": "https://localhost:8080/"
        },
        "id": "JLNOEhRTMO0W",
        "outputId": "66ccaedd-2205-45cf-ba8a-88df138e341b"
      },
      "execution_count": 53,
      "outputs": [
        {
          "output_type": "stream",
          "name": "stdout",
          "text": [
            "Epoch [10/1000] : Loss = 735.4065551757812]\n",
            "Epoch [20/1000] : Loss = 750.51171875]\n",
            "Epoch [30/1000] : Loss = 1099.036376953125]\n",
            "Epoch [40/1000] : Loss = 1429.8541259765625]\n",
            "Epoch [50/1000] : Loss = 1428.6256103515625]\n",
            "Epoch [60/1000] : Loss = 1565.3822021484375]\n",
            "Epoch [70/1000] : Loss = 1695.140869140625]\n",
            "Epoch [80/1000] : Loss = 1269.5687255859375]\n",
            "Epoch [90/1000] : Loss = 1440.973388671875]\n",
            "Epoch [100/1000] : Loss = 1305.990966796875]\n",
            "Epoch [110/1000] : Loss = 825.0865478515625]\n",
            "Epoch [120/1000] : Loss = 1695.9927978515625]\n",
            "Epoch [130/1000] : Loss = 1556.2393798828125]\n",
            "Epoch [140/1000] : Loss = 849.6155395507812]\n",
            "Epoch [150/1000] : Loss = 1757.8187255859375]\n",
            "Epoch [160/1000] : Loss = 1443.185791015625]\n",
            "Epoch [170/1000] : Loss = 1387.801513671875]\n",
            "Epoch [180/1000] : Loss = 1193.322021484375]\n",
            "Epoch [190/1000] : Loss = 1075.5914306640625]\n",
            "Epoch [200/1000] : Loss = 1444.272216796875]\n",
            "Epoch [210/1000] : Loss = 937.8517456054688]\n",
            "Epoch [220/1000] : Loss = 1114.296142578125]\n",
            "Epoch [230/1000] : Loss = 1698.2724609375]\n",
            "Epoch [240/1000] : Loss = 986.4406127929688]\n",
            "Epoch [250/1000] : Loss = 403.8748474121094]\n",
            "Epoch [260/1000] : Loss = 1444.0400390625]\n",
            "Epoch [270/1000] : Loss = 1433.6248779296875]\n",
            "Epoch [280/1000] : Loss = 1253.565673828125]\n",
            "Epoch [290/1000] : Loss = 1381.144287109375]\n",
            "Epoch [300/1000] : Loss = 423.51446533203125]\n",
            "Epoch [310/1000] : Loss = 1383.534423828125]\n",
            "Epoch [320/1000] : Loss = 1535.357177734375]\n",
            "Epoch [330/1000] : Loss = 1562.4234619140625]\n",
            "Epoch [340/1000] : Loss = 1135.3240966796875]\n",
            "Epoch [350/1000] : Loss = 1249.7958984375]\n",
            "Epoch [360/1000] : Loss = 1698.4560546875]\n",
            "Epoch [370/1000] : Loss = 610.3992309570312]\n",
            "Epoch [380/1000] : Loss = 1135.838134765625]\n",
            "Epoch [390/1000] : Loss = 1134.864990234375]\n",
            "Epoch [400/1000] : Loss = 1697.3125]\n",
            "Epoch [410/1000] : Loss = 985.4269409179688]\n",
            "Epoch [420/1000] : Loss = 1651.7923583984375]\n",
            "Epoch [430/1000] : Loss = 1434.644775390625]\n",
            "Epoch [440/1000] : Loss = 594.57470703125]\n",
            "Epoch [450/1000] : Loss = 1264.9678955078125]\n",
            "Epoch [460/1000] : Loss = 850.7178955078125]\n",
            "Epoch [470/1000] : Loss = 403.5801086425781]\n",
            "Epoch [480/1000] : Loss = 995.1571044921875]\n",
            "Epoch [490/1000] : Loss = 1145.2064208984375]\n",
            "Epoch [500/1000] : Loss = 1187.9971923828125]\n",
            "Epoch [510/1000] : Loss = 1399.9896240234375]\n",
            "Epoch [520/1000] : Loss = 1120.9224853515625]\n",
            "Epoch [530/1000] : Loss = 805.0619506835938]\n",
            "Epoch [540/1000] : Loss = 1270.9501953125]\n",
            "Epoch [550/1000] : Loss = 1312.388427734375]\n",
            "Epoch [560/1000] : Loss = 862.5119018554688]\n",
            "Epoch [570/1000] : Loss = 1262.284912109375]\n",
            "Epoch [580/1000] : Loss = 1709.804443359375]\n",
            "Epoch [590/1000] : Loss = 609.7566528320312]\n",
            "Epoch [600/1000] : Loss = 729.0264892578125]\n",
            "Epoch [610/1000] : Loss = 937.4451293945312]\n",
            "Epoch [620/1000] : Loss = 799.86767578125]\n",
            "Epoch [630/1000] : Loss = 1725.7825927734375]\n",
            "Epoch [640/1000] : Loss = 805.7647705078125]\n",
            "Epoch [650/1000] : Loss = 1249.9522705078125]\n",
            "Epoch [660/1000] : Loss = 1338.8948974609375]\n",
            "Epoch [670/1000] : Loss = 1518.5345458984375]\n",
            "Epoch [680/1000] : Loss = 1682.142333984375]\n",
            "Epoch [690/1000] : Loss = 2034.500732421875]\n",
            "Epoch [700/1000] : Loss = 1383.351806640625]\n",
            "Epoch [710/1000] : Loss = 1310.345947265625]\n",
            "Epoch [720/1000] : Loss = 919.447265625]\n",
            "Epoch [730/1000] : Loss = 1445.501708984375]\n",
            "Epoch [740/1000] : Loss = 1253.809326171875]\n",
            "Epoch [750/1000] : Loss = 872.3763427734375]\n",
            "Epoch [760/1000] : Loss = 929.6790161132812]\n",
            "Epoch [770/1000] : Loss = 479.8751525878906]\n",
            "Epoch [780/1000] : Loss = 1472.622314453125]\n",
            "Epoch [790/1000] : Loss = 1146.9261474609375]\n",
            "Epoch [800/1000] : Loss = 1399.952392578125]\n",
            "Epoch [810/1000] : Loss = 936.3518676757812]\n",
            "Epoch [820/1000] : Loss = 630.8223876953125]\n",
            "Epoch [830/1000] : Loss = 1776.1536865234375]\n",
            "Epoch [840/1000] : Loss = 953.3800048828125]\n",
            "Epoch [850/1000] : Loss = 1057.5474853515625]\n",
            "Epoch [860/1000] : Loss = 1260.40234375]\n",
            "Epoch [870/1000] : Loss = 687.6075439453125]\n",
            "Epoch [880/1000] : Loss = 745.7404174804688]\n",
            "Epoch [890/1000] : Loss = 1518.519287109375]\n",
            "Epoch [900/1000] : Loss = 1191.9005126953125]\n",
            "Epoch [910/1000] : Loss = 610.0446166992188]\n",
            "Epoch [920/1000] : Loss = 952.3585205078125]\n",
            "Epoch [930/1000] : Loss = 1977.4390869140625]\n",
            "Epoch [940/1000] : Loss = 1175.2999267578125]\n",
            "Epoch [950/1000] : Loss = 1322.666748046875]\n",
            "Epoch [960/1000] : Loss = 1682.3704833984375]\n",
            "Epoch [970/1000] : Loss = 612.8345947265625]\n",
            "Epoch [980/1000] : Loss = 609.0308227539062]\n",
            "Epoch [990/1000] : Loss = 1445.7796630859375]\n",
            "Epoch [1000/1000] : Loss = 1787.6923828125]\n"
          ]
        }
      ]
    }
  ],
  "metadata": {
    "colab": {
      "provenance": [],
      "authorship_tag": "ABX9TyPvQIVi/lcY7ZrVnUCu4S3u",
      "include_colab_link": true
    },
    "kernelspec": {
      "display_name": "Python 3",
      "name": "python3"
    },
    "language_info": {
      "name": "python"
    }
  },
  "nbformat": 4,
  "nbformat_minor": 0
}